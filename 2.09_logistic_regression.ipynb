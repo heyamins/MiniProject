{
 "cells": [
  {
   "cell_type": "markdown",
   "metadata": {},
   "source": [
    "## Logistic Regression\n",
    "\n",
    "Logistic Regression is a model to predict the probability of a CATEGORICAL target.\n",
    "\n",
    "The target variable can be:\n",
    "* Binary: yes or no (0 or 1)\n",
    "* Multi-nomial: more then 2 options, without hierarchy (i.e.:cat, dog and mouse)\n",
    "* Ordinal: more then 2 options, with hierarchy (i.e.: rating from 1 to 5)\n",
    "\n",
    "Don't forget the [DOCS](https://scikit-learn.org/stable/modules/generated/sklearn.linear_model.LogisticRegression.html). <br>\n",
    "More on formulas and functions [here](https://towardsdatascience.com/logistic-regression-detailed-overview-46c4da4303bc)."
   ]
  },
  {
   "cell_type": "code",
   "execution_count": 37,
   "metadata": {},
   "outputs": [
    {
     "name": "stdout",
     "output_type": "stream",
     "text": [
      "········\n"
     ]
    }
   ],
   "source": [
    "import pymysql\n",
    "from sqlalchemy import create_engine\n",
    "import pandas as pd\n",
    "import numpy as np\n",
    "from matplotlib import pyplot as plt\n",
    "import seaborn as sns\n",
    "from sklearn.metrics import confusion_matrix\n",
    "from sklearn.model_selection import train_test_split\n",
    "from sklearn.linear_model import LogisticRegression\n",
    "from sklearn.preprocessing import StandardScaler\n",
    "\n",
    "import getpass  # to get the password without showing the input\n",
    "password = getpass.getpass()\n",
    "\n",
    "connection_string = 'mysql+pymysql://root:' + password + '@localhost/bank'\n",
    "engine = create_engine(connection_string)"
   ]
  },
  {
   "cell_type": "markdown",
   "metadata": {},
   "source": [
    "Now we want to develop a classification model to predict the status of the customer based on the information available."
   ]
  },
  {
   "cell_type": "code",
   "execution_count": 38,
   "metadata": {},
   "outputs": [
    {
     "data": {
      "text/html": [
       "<div>\n",
       "<style scoped>\n",
       "    .dataframe tbody tr th:only-of-type {\n",
       "        vertical-align: middle;\n",
       "    }\n",
       "\n",
       "    .dataframe tbody tr th {\n",
       "        vertical-align: top;\n",
       "    }\n",
       "\n",
       "    .dataframe thead th {\n",
       "        text-align: right;\n",
       "    }\n",
       "</style>\n",
       "<table border=\"1\" class=\"dataframe\">\n",
       "  <thead>\n",
       "    <tr style=\"text-align: right;\">\n",
       "      <th></th>\n",
       "      <th>type</th>\n",
       "      <th>operation</th>\n",
       "      <th>t_amount</th>\n",
       "      <th>balance</th>\n",
       "      <th>k_symbol</th>\n",
       "      <th>l_amount</th>\n",
       "      <th>duration</th>\n",
       "      <th>payments</th>\n",
       "      <th>status</th>\n",
       "    </tr>\n",
       "  </thead>\n",
       "  <tbody>\n",
       "    <tr>\n",
       "      <th>0</th>\n",
       "      <td>PRIJEM</td>\n",
       "      <td></td>\n",
       "      <td>73.8</td>\n",
       "      <td>45821.8</td>\n",
       "      <td>UROK</td>\n",
       "      <td>96396</td>\n",
       "      <td>12</td>\n",
       "      <td>8033.0</td>\n",
       "      <td>B</td>\n",
       "    </tr>\n",
       "    <tr>\n",
       "      <th>1</th>\n",
       "      <td>VYDAJ</td>\n",
       "      <td>VYBER</td>\n",
       "      <td>16600.0</td>\n",
       "      <td>45748.0</td>\n",
       "      <td></td>\n",
       "      <td>96396</td>\n",
       "      <td>12</td>\n",
       "      <td>8033.0</td>\n",
       "      <td>B</td>\n",
       "    </tr>\n",
       "    <tr>\n",
       "      <th>2</th>\n",
       "      <td>PRIJEM</td>\n",
       "      <td>VKLAD</td>\n",
       "      <td>3300.0</td>\n",
       "      <td>20100.0</td>\n",
       "      <td></td>\n",
       "      <td>96396</td>\n",
       "      <td>12</td>\n",
       "      <td>8033.0</td>\n",
       "      <td>B</td>\n",
       "    </tr>\n",
       "    <tr>\n",
       "      <th>3</th>\n",
       "      <td>PRIJEM</td>\n",
       "      <td>VKLAD</td>\n",
       "      <td>5800.0</td>\n",
       "      <td>16800.0</td>\n",
       "      <td></td>\n",
       "      <td>96396</td>\n",
       "      <td>12</td>\n",
       "      <td>8033.0</td>\n",
       "      <td>B</td>\n",
       "    </tr>\n",
       "    <tr>\n",
       "      <th>4</th>\n",
       "      <td>PRIJEM</td>\n",
       "      <td>VKLAD</td>\n",
       "      <td>9900.0</td>\n",
       "      <td>11000.0</td>\n",
       "      <td></td>\n",
       "      <td>96396</td>\n",
       "      <td>12</td>\n",
       "      <td>8033.0</td>\n",
       "      <td>B</td>\n",
       "    </tr>\n",
       "    <tr>\n",
       "      <th>...</th>\n",
       "      <td>...</td>\n",
       "      <td>...</td>\n",
       "      <td>...</td>\n",
       "      <td>...</td>\n",
       "      <td>...</td>\n",
       "      <td>...</td>\n",
       "      <td>...</td>\n",
       "      <td>...</td>\n",
       "      <td>...</td>\n",
       "    </tr>\n",
       "    <tr>\n",
       "      <th>74359</th>\n",
       "      <td>PRIJEM</td>\n",
       "      <td>PREVOD Z UCTU</td>\n",
       "      <td>47710.0</td>\n",
       "      <td>85215.5</td>\n",
       "      <td></td>\n",
       "      <td>44628</td>\n",
       "      <td>12</td>\n",
       "      <td>3719.0</td>\n",
       "      <td>A</td>\n",
       "    </tr>\n",
       "    <tr>\n",
       "      <th>74360</th>\n",
       "      <td>PRIJEM</td>\n",
       "      <td></td>\n",
       "      <td>95.5</td>\n",
       "      <td>37505.5</td>\n",
       "      <td>UROK</td>\n",
       "      <td>44628</td>\n",
       "      <td>12</td>\n",
       "      <td>3719.0</td>\n",
       "      <td>A</td>\n",
       "    </tr>\n",
       "    <tr>\n",
       "      <th>74361</th>\n",
       "      <td>VYDAJ</td>\n",
       "      <td>VYBER</td>\n",
       "      <td>11200.0</td>\n",
       "      <td>37410.0</td>\n",
       "      <td></td>\n",
       "      <td>44628</td>\n",
       "      <td>12</td>\n",
       "      <td>3719.0</td>\n",
       "      <td>A</td>\n",
       "    </tr>\n",
       "    <tr>\n",
       "      <th>74362</th>\n",
       "      <td>PRIJEM</td>\n",
       "      <td>PREVOD Z UCTU</td>\n",
       "      <td>47710.0</td>\n",
       "      <td>48610.0</td>\n",
       "      <td></td>\n",
       "      <td>44628</td>\n",
       "      <td>12</td>\n",
       "      <td>3719.0</td>\n",
       "      <td>A</td>\n",
       "    </tr>\n",
       "    <tr>\n",
       "      <th>74363</th>\n",
       "      <td>PRIJEM</td>\n",
       "      <td>VKLAD</td>\n",
       "      <td>900.0</td>\n",
       "      <td>900.0</td>\n",
       "      <td></td>\n",
       "      <td>44628</td>\n",
       "      <td>12</td>\n",
       "      <td>3719.0</td>\n",
       "      <td>A</td>\n",
       "    </tr>\n",
       "  </tbody>\n",
       "</table>\n",
       "<p>74364 rows × 9 columns</p>\n",
       "</div>"
      ],
      "text/plain": [
       "         type      operation  t_amount  balance k_symbol  l_amount  duration  \\\n",
       "0      PRIJEM                     73.8  45821.8     UROK     96396        12   \n",
       "1       VYDAJ          VYBER   16600.0  45748.0              96396        12   \n",
       "2      PRIJEM          VKLAD    3300.0  20100.0              96396        12   \n",
       "3      PRIJEM          VKLAD    5800.0  16800.0              96396        12   \n",
       "4      PRIJEM          VKLAD    9900.0  11000.0              96396        12   \n",
       "...       ...            ...       ...      ...      ...       ...       ...   \n",
       "74359  PRIJEM  PREVOD Z UCTU   47710.0  85215.5              44628        12   \n",
       "74360  PRIJEM                     95.5  37505.5     UROK     44628        12   \n",
       "74361   VYDAJ          VYBER   11200.0  37410.0              44628        12   \n",
       "74362  PRIJEM  PREVOD Z UCTU   47710.0  48610.0              44628        12   \n",
       "74363  PRIJEM          VKLAD     900.0    900.0              44628        12   \n",
       "\n",
       "       payments status  \n",
       "0        8033.0      B  \n",
       "1        8033.0      B  \n",
       "2        8033.0      B  \n",
       "3        8033.0      B  \n",
       "4        8033.0      B  \n",
       "...         ...    ...  \n",
       "74359    3719.0      A  \n",
       "74360    3719.0      A  \n",
       "74361    3719.0      A  \n",
       "74362    3719.0      A  \n",
       "74363    3719.0      A  \n",
       "\n",
       "[74364 rows x 9 columns]"
      ]
     },
     "execution_count": 38,
     "metadata": {},
     "output_type": "execute_result"
    }
   ],
   "source": [
    "# Getting the data:\n",
    "query = '''SELECT t.type, t.operation, t.amount AS t_amount, t.balance, t.k_symbol, l.amount AS l_amount, l.duration, l.payments, l.status\n",
    "           FROM loan l\n",
    "           LEFT JOIN trans t\n",
    "           ON t.account_id = l.account_id\n",
    "           WHERE l.status IN ('A', 'B');'''\n",
    "\n",
    "data = pd.read_sql_query(query, engine)\n",
    "data"
   ]
  },
  {
   "cell_type": "markdown",
   "metadata": {},
   "source": [
    "#### Preparation"
   ]
  },
  {
   "cell_type": "code",
   "execution_count": 3,
   "metadata": {},
   "outputs": [
    {
     "data": {
      "text/plain": [
       "((74364, 9),\n",
       " type          object\n",
       " operation     object\n",
       " t_amount     float64\n",
       " balance      float64\n",
       " k_symbol      object\n",
       " l_amount       int64\n",
       " duration       int64\n",
       " payments     float64\n",
       " status        object\n",
       " dtype: object)"
      ]
     },
     "execution_count": 3,
     "metadata": {},
     "output_type": "execute_result"
    }
   ],
   "source": [
    "data.shape, data.dtypes"
   ]
  },
  {
   "cell_type": "code",
   "execution_count": 4,
   "metadata": {},
   "outputs": [
    {
     "data": {
      "text/plain": [
       "type         0\n",
       "operation    0\n",
       "t_amount     0\n",
       "balance      0\n",
       "k_symbol     0\n",
       "l_amount     0\n",
       "duration     0\n",
       "payments     0\n",
       "status       0\n",
       "dtype: int64"
      ]
     },
     "execution_count": 4,
     "metadata": {},
     "output_type": "execute_result"
    }
   ],
   "source": [
    "data.isna().sum()"
   ]
  },
  {
   "cell_type": "code",
   "execution_count": 5,
   "metadata": {},
   "outputs": [
    {
     "data": {
      "text/html": [
       "<div>\n",
       "<style scoped>\n",
       "    .dataframe tbody tr th:only-of-type {\n",
       "        vertical-align: middle;\n",
       "    }\n",
       "\n",
       "    .dataframe tbody tr th {\n",
       "        vertical-align: top;\n",
       "    }\n",
       "\n",
       "    .dataframe thead th {\n",
       "        text-align: right;\n",
       "    }\n",
       "</style>\n",
       "<table border=\"1\" class=\"dataframe\">\n",
       "  <thead>\n",
       "    <tr style=\"text-align: right;\">\n",
       "      <th></th>\n",
       "      <th>t_amount</th>\n",
       "      <th>balance</th>\n",
       "      <th>l_amount</th>\n",
       "      <th>duration</th>\n",
       "      <th>payments</th>\n",
       "    </tr>\n",
       "  </thead>\n",
       "  <tbody>\n",
       "    <tr>\n",
       "      <th>count</th>\n",
       "      <td>74364.000000</td>\n",
       "      <td>74364.000000</td>\n",
       "      <td>74364.000000</td>\n",
       "      <td>74364.000000</td>\n",
       "      <td>74364.000000</td>\n",
       "    </tr>\n",
       "    <tr>\n",
       "      <th>mean</th>\n",
       "      <td>7832.649125</td>\n",
       "      <td>46022.153061</td>\n",
       "      <td>102745.132645</td>\n",
       "      <td>23.942230</td>\n",
       "      <td>4356.580832</td>\n",
       "    </tr>\n",
       "    <tr>\n",
       "      <th>std</th>\n",
       "      <td>11729.040391</td>\n",
       "      <td>25439.948570</td>\n",
       "      <td>74749.275498</td>\n",
       "      <td>12.155783</td>\n",
       "      <td>2205.840892</td>\n",
       "    </tr>\n",
       "    <tr>\n",
       "      <th>min</th>\n",
       "      <td>0.000000</td>\n",
       "      <td>-14137.200000</td>\n",
       "      <td>4980.000000</td>\n",
       "      <td>12.000000</td>\n",
       "      <td>319.000000</td>\n",
       "    </tr>\n",
       "    <tr>\n",
       "      <th>25%</th>\n",
       "      <td>144.300000</td>\n",
       "      <td>27675.125000</td>\n",
       "      <td>46320.000000</td>\n",
       "      <td>12.000000</td>\n",
       "      <td>2569.000000</td>\n",
       "    </tr>\n",
       "    <tr>\n",
       "      <th>50%</th>\n",
       "      <td>3000.000000</td>\n",
       "      <td>40965.150000</td>\n",
       "      <td>86184.000000</td>\n",
       "      <td>24.000000</td>\n",
       "      <td>4051.000000</td>\n",
       "    </tr>\n",
       "    <tr>\n",
       "      <th>75%</th>\n",
       "      <td>9868.500000</td>\n",
       "      <td>60098.550000</td>\n",
       "      <td>140400.000000</td>\n",
       "      <td>36.000000</td>\n",
       "      <td>6315.000000</td>\n",
       "    </tr>\n",
       "    <tr>\n",
       "      <th>max</th>\n",
       "      <td>87300.000000</td>\n",
       "      <td>193910.000000</td>\n",
       "      <td>464520.000000</td>\n",
       "      <td>60.000000</td>\n",
       "      <td>9736.000000</td>\n",
       "    </tr>\n",
       "  </tbody>\n",
       "</table>\n",
       "</div>"
      ],
      "text/plain": [
       "           t_amount        balance       l_amount      duration      payments\n",
       "count  74364.000000   74364.000000   74364.000000  74364.000000  74364.000000\n",
       "mean    7832.649125   46022.153061  102745.132645     23.942230   4356.580832\n",
       "std    11729.040391   25439.948570   74749.275498     12.155783   2205.840892\n",
       "min        0.000000  -14137.200000    4980.000000     12.000000    319.000000\n",
       "25%      144.300000   27675.125000   46320.000000     12.000000   2569.000000\n",
       "50%     3000.000000   40965.150000   86184.000000     24.000000   4051.000000\n",
       "75%     9868.500000   60098.550000  140400.000000     36.000000   6315.000000\n",
       "max    87300.000000  193910.000000  464520.000000     60.000000   9736.000000"
      ]
     },
     "execution_count": 5,
     "metadata": {},
     "output_type": "execute_result"
    }
   ],
   "source": [
    "data.describe()"
   ]
  },
  {
   "cell_type": "code",
   "execution_count": 39,
   "metadata": {
    "scrolled": false
   },
   "outputs": [
    {
     "name": "stdout",
     "output_type": "stream",
     "text": [
      "VYDAJ     44075\n",
      "PRIJEM    27660\n",
      "VYBER      2629\n",
      "Name: type, dtype: int64 \n",
      "\n",
      "VYBER             34667\n",
      "                  14646\n",
      "PREVOD NA UCET    11647\n",
      "VKLAD             10525\n",
      "PREVOD Z UCTU      2489\n",
      "VYBER KARTOU        390\n",
      "Name: operation, dtype: int64 \n",
      "\n",
      "               35953\n",
      "UROK           14646\n",
      "SLUZBY         11306\n",
      "SIPO            5081\n",
      "                3018\n",
      "UVER            2893\n",
      "POJISTNE        1159\n",
      "SANKC. UROK      308\n",
      "Name: k_symbol, dtype: int64 \n",
      "\n",
      "A    64599\n",
      "B     9765\n",
      "Name: status, dtype: int64 \n",
      "\n"
     ]
    }
   ],
   "source": [
    "for col in data.select_dtypes('object'):\n",
    "    print(data[col].value_counts(), '\\n') #unique()"
   ]
  },
  {
   "cell_type": "code",
   "execution_count": 7,
   "metadata": {},
   "outputs": [],
   "source": [
    "# if you want to filter them out instead of cleaning\n",
    "# data[(data['k_symbol'] != '') & (data['k_symbol'] != ' ') & (data['operation'] != ' ')] "
   ]
  },
  {
   "cell_type": "markdown",
   "metadata": {},
   "source": [
    "#### Data Cleaning"
   ]
  },
  {
   "cell_type": "code",
   "execution_count": 40,
   "metadata": {},
   "outputs": [],
   "source": [
    "def clean_empty(x):\n",
    "    return 'UNK' if x == '' or x == ' ' else x\n",
    "\n",
    "# it's the same as this:\n",
    "def clean_empty(x):\n",
    "    if x == '' or x == ' ':\n",
    "        return 'UNK' \n",
    "    else:\n",
    "        return x\n",
    "    \n",
    "# or with lambda\n",
    "lmd = lambda x: 'UNK' if x == '' or x == ' ' else x"
   ]
  },
  {
   "cell_type": "code",
   "execution_count": 41,
   "metadata": {},
   "outputs": [],
   "source": [
    "# with regular apply - gets all values row wise OR column wise (axis parameter)\n",
    "for col in data.select_dtypes('object'):\n",
    "    data[col] = data[col].apply(clean_empty) # lmb"
   ]
  },
  {
   "cell_type": "code",
   "execution_count": 42,
   "metadata": {},
   "outputs": [
    {
     "data": {
      "text/html": [
       "<div>\n",
       "<style scoped>\n",
       "    .dataframe tbody tr th:only-of-type {\n",
       "        vertical-align: middle;\n",
       "    }\n",
       "\n",
       "    .dataframe tbody tr th {\n",
       "        vertical-align: top;\n",
       "    }\n",
       "\n",
       "    .dataframe thead th {\n",
       "        text-align: right;\n",
       "    }\n",
       "</style>\n",
       "<table border=\"1\" class=\"dataframe\">\n",
       "  <thead>\n",
       "    <tr style=\"text-align: right;\">\n",
       "      <th></th>\n",
       "      <th>type</th>\n",
       "      <th>operation</th>\n",
       "      <th>t_amount</th>\n",
       "      <th>balance</th>\n",
       "      <th>k_symbol</th>\n",
       "      <th>l_amount</th>\n",
       "      <th>duration</th>\n",
       "      <th>payments</th>\n",
       "      <th>status</th>\n",
       "    </tr>\n",
       "  </thead>\n",
       "  <tbody>\n",
       "    <tr>\n",
       "      <th>0</th>\n",
       "      <td>PRIJEM</td>\n",
       "      <td>UNK</td>\n",
       "      <td>73.8</td>\n",
       "      <td>45821.8</td>\n",
       "      <td>UROK</td>\n",
       "      <td>96396</td>\n",
       "      <td>12</td>\n",
       "      <td>8033.0</td>\n",
       "      <td>B</td>\n",
       "    </tr>\n",
       "    <tr>\n",
       "      <th>1</th>\n",
       "      <td>VYDAJ</td>\n",
       "      <td>VYBER</td>\n",
       "      <td>16600.0</td>\n",
       "      <td>45748.0</td>\n",
       "      <td>UNK</td>\n",
       "      <td>96396</td>\n",
       "      <td>12</td>\n",
       "      <td>8033.0</td>\n",
       "      <td>B</td>\n",
       "    </tr>\n",
       "    <tr>\n",
       "      <th>2</th>\n",
       "      <td>PRIJEM</td>\n",
       "      <td>VKLAD</td>\n",
       "      <td>3300.0</td>\n",
       "      <td>20100.0</td>\n",
       "      <td>UNK</td>\n",
       "      <td>96396</td>\n",
       "      <td>12</td>\n",
       "      <td>8033.0</td>\n",
       "      <td>B</td>\n",
       "    </tr>\n",
       "    <tr>\n",
       "      <th>3</th>\n",
       "      <td>PRIJEM</td>\n",
       "      <td>VKLAD</td>\n",
       "      <td>5800.0</td>\n",
       "      <td>16800.0</td>\n",
       "      <td>UNK</td>\n",
       "      <td>96396</td>\n",
       "      <td>12</td>\n",
       "      <td>8033.0</td>\n",
       "      <td>B</td>\n",
       "    </tr>\n",
       "    <tr>\n",
       "      <th>4</th>\n",
       "      <td>PRIJEM</td>\n",
       "      <td>VKLAD</td>\n",
       "      <td>9900.0</td>\n",
       "      <td>11000.0</td>\n",
       "      <td>UNK</td>\n",
       "      <td>96396</td>\n",
       "      <td>12</td>\n",
       "      <td>8033.0</td>\n",
       "      <td>B</td>\n",
       "    </tr>\n",
       "    <tr>\n",
       "      <th>...</th>\n",
       "      <td>...</td>\n",
       "      <td>...</td>\n",
       "      <td>...</td>\n",
       "      <td>...</td>\n",
       "      <td>...</td>\n",
       "      <td>...</td>\n",
       "      <td>...</td>\n",
       "      <td>...</td>\n",
       "      <td>...</td>\n",
       "    </tr>\n",
       "    <tr>\n",
       "      <th>74359</th>\n",
       "      <td>PRIJEM</td>\n",
       "      <td>PREVOD Z UCTU</td>\n",
       "      <td>47710.0</td>\n",
       "      <td>85215.5</td>\n",
       "      <td>UNK</td>\n",
       "      <td>44628</td>\n",
       "      <td>12</td>\n",
       "      <td>3719.0</td>\n",
       "      <td>A</td>\n",
       "    </tr>\n",
       "    <tr>\n",
       "      <th>74360</th>\n",
       "      <td>PRIJEM</td>\n",
       "      <td>UNK</td>\n",
       "      <td>95.5</td>\n",
       "      <td>37505.5</td>\n",
       "      <td>UROK</td>\n",
       "      <td>44628</td>\n",
       "      <td>12</td>\n",
       "      <td>3719.0</td>\n",
       "      <td>A</td>\n",
       "    </tr>\n",
       "    <tr>\n",
       "      <th>74361</th>\n",
       "      <td>VYDAJ</td>\n",
       "      <td>VYBER</td>\n",
       "      <td>11200.0</td>\n",
       "      <td>37410.0</td>\n",
       "      <td>UNK</td>\n",
       "      <td>44628</td>\n",
       "      <td>12</td>\n",
       "      <td>3719.0</td>\n",
       "      <td>A</td>\n",
       "    </tr>\n",
       "    <tr>\n",
       "      <th>74362</th>\n",
       "      <td>PRIJEM</td>\n",
       "      <td>PREVOD Z UCTU</td>\n",
       "      <td>47710.0</td>\n",
       "      <td>48610.0</td>\n",
       "      <td>UNK</td>\n",
       "      <td>44628</td>\n",
       "      <td>12</td>\n",
       "      <td>3719.0</td>\n",
       "      <td>A</td>\n",
       "    </tr>\n",
       "    <tr>\n",
       "      <th>74363</th>\n",
       "      <td>PRIJEM</td>\n",
       "      <td>VKLAD</td>\n",
       "      <td>900.0</td>\n",
       "      <td>900.0</td>\n",
       "      <td>UNK</td>\n",
       "      <td>44628</td>\n",
       "      <td>12</td>\n",
       "      <td>3719.0</td>\n",
       "      <td>A</td>\n",
       "    </tr>\n",
       "  </tbody>\n",
       "</table>\n",
       "<p>74364 rows × 9 columns</p>\n",
       "</div>"
      ],
      "text/plain": [
       "         type      operation  t_amount  balance k_symbol  l_amount  duration  \\\n",
       "0      PRIJEM            UNK      73.8  45821.8     UROK     96396        12   \n",
       "1       VYDAJ          VYBER   16600.0  45748.0      UNK     96396        12   \n",
       "2      PRIJEM          VKLAD    3300.0  20100.0      UNK     96396        12   \n",
       "3      PRIJEM          VKLAD    5800.0  16800.0      UNK     96396        12   \n",
       "4      PRIJEM          VKLAD    9900.0  11000.0      UNK     96396        12   \n",
       "...       ...            ...       ...      ...      ...       ...       ...   \n",
       "74359  PRIJEM  PREVOD Z UCTU   47710.0  85215.5      UNK     44628        12   \n",
       "74360  PRIJEM            UNK      95.5  37505.5     UROK     44628        12   \n",
       "74361   VYDAJ          VYBER   11200.0  37410.0      UNK     44628        12   \n",
       "74362  PRIJEM  PREVOD Z UCTU   47710.0  48610.0      UNK     44628        12   \n",
       "74363  PRIJEM          VKLAD     900.0    900.0      UNK     44628        12   \n",
       "\n",
       "       payments status  \n",
       "0        8033.0      B  \n",
       "1        8033.0      B  \n",
       "2        8033.0      B  \n",
       "3        8033.0      B  \n",
       "4        8033.0      B  \n",
       "...         ...    ...  \n",
       "74359    3719.0      A  \n",
       "74360    3719.0      A  \n",
       "74361    3719.0      A  \n",
       "74362    3719.0      A  \n",
       "74363    3719.0      A  \n",
       "\n",
       "[74364 rows x 9 columns]"
      ]
     },
     "execution_count": 42,
     "metadata": {},
     "output_type": "execute_result"
    }
   ],
   "source": [
    "# with applymap - gets every value (row AND column wise)\n",
    "data.applymap(clean_empty) # lmb"
   ]
  },
  {
   "cell_type": "markdown",
   "metadata": {},
   "source": [
    "#### EDA"
   ]
  },
  {
   "cell_type": "code",
   "execution_count": 67,
   "metadata": {},
   "outputs": [
    {
     "data": {
      "text/html": [
       "<div>\n",
       "<style scoped>\n",
       "    .dataframe tbody tr th:only-of-type {\n",
       "        vertical-align: middle;\n",
       "    }\n",
       "\n",
       "    .dataframe tbody tr th {\n",
       "        vertical-align: top;\n",
       "    }\n",
       "\n",
       "    .dataframe thead th {\n",
       "        text-align: right;\n",
       "    }\n",
       "</style>\n",
       "<table border=\"1\" class=\"dataframe\">\n",
       "  <thead>\n",
       "    <tr style=\"text-align: right;\">\n",
       "      <th>status</th>\n",
       "      <th>A</th>\n",
       "      <th>B</th>\n",
       "    </tr>\n",
       "    <tr>\n",
       "      <th>type</th>\n",
       "      <th></th>\n",
       "      <th></th>\n",
       "    </tr>\n",
       "  </thead>\n",
       "  <tbody>\n",
       "    <tr>\n",
       "      <th>PRIJEM</th>\n",
       "      <td>36.472701</td>\n",
       "      <td>41.976446</td>\n",
       "    </tr>\n",
       "    <tr>\n",
       "      <th>VYBER</th>\n",
       "      <td>3.427298</td>\n",
       "      <td>4.249872</td>\n",
       "    </tr>\n",
       "    <tr>\n",
       "      <th>VYDAJ</th>\n",
       "      <td>60.100002</td>\n",
       "      <td>53.773682</td>\n",
       "    </tr>\n",
       "  </tbody>\n",
       "</table>\n",
       "</div>"
      ],
      "text/plain": [
       "status          A          B\n",
       "type                        \n",
       "PRIJEM  36.472701  41.976446\n",
       "VYBER    3.427298   4.249872\n",
       "VYDAJ   60.100002  53.773682"
      ]
     },
     "metadata": {},
     "output_type": "display_data"
    },
    {
     "data": {
      "text/html": [
       "<div>\n",
       "<style scoped>\n",
       "    .dataframe tbody tr th:only-of-type {\n",
       "        vertical-align: middle;\n",
       "    }\n",
       "\n",
       "    .dataframe tbody tr th {\n",
       "        vertical-align: top;\n",
       "    }\n",
       "\n",
       "    .dataframe thead th {\n",
       "        text-align: right;\n",
       "    }\n",
       "</style>\n",
       "<table border=\"1\" class=\"dataframe\">\n",
       "  <thead>\n",
       "    <tr style=\"text-align: right;\">\n",
       "      <th>status</th>\n",
       "      <th>A</th>\n",
       "      <th>B</th>\n",
       "    </tr>\n",
       "    <tr>\n",
       "      <th>operation</th>\n",
       "      <th></th>\n",
       "      <th></th>\n",
       "    </tr>\n",
       "  </thead>\n",
       "  <tbody>\n",
       "    <tr>\n",
       "      <th>PREVOD NA UCET</th>\n",
       "      <td>16.551340</td>\n",
       "      <td>9.779826</td>\n",
       "    </tr>\n",
       "    <tr>\n",
       "      <th>PREVOD Z UCTU</th>\n",
       "      <td>3.623895</td>\n",
       "      <td>1.515617</td>\n",
       "    </tr>\n",
       "    <tr>\n",
       "      <th>UNK</th>\n",
       "      <td>19.207728</td>\n",
       "      <td>22.918587</td>\n",
       "    </tr>\n",
       "    <tr>\n",
       "      <th>VKLAD</th>\n",
       "      <td>13.641078</td>\n",
       "      <td>17.542243</td>\n",
       "    </tr>\n",
       "    <tr>\n",
       "      <th>VYBER</th>\n",
       "      <td>46.395455</td>\n",
       "      <td>48.090118</td>\n",
       "    </tr>\n",
       "    <tr>\n",
       "      <th>VYBER KARTOU</th>\n",
       "      <td>0.580504</td>\n",
       "      <td>0.153610</td>\n",
       "    </tr>\n",
       "  </tbody>\n",
       "</table>\n",
       "</div>"
      ],
      "text/plain": [
       "status                  A          B\n",
       "operation                           \n",
       "PREVOD NA UCET  16.551340   9.779826\n",
       "PREVOD Z UCTU    3.623895   1.515617\n",
       "UNK             19.207728  22.918587\n",
       "VKLAD           13.641078  17.542243\n",
       "VYBER           46.395455  48.090118\n",
       "VYBER KARTOU     0.580504   0.153610"
      ]
     },
     "metadata": {},
     "output_type": "display_data"
    },
    {
     "data": {
      "text/html": [
       "<div>\n",
       "<style scoped>\n",
       "    .dataframe tbody tr th:only-of-type {\n",
       "        vertical-align: middle;\n",
       "    }\n",
       "\n",
       "    .dataframe tbody tr th {\n",
       "        vertical-align: top;\n",
       "    }\n",
       "\n",
       "    .dataframe thead th {\n",
       "        text-align: right;\n",
       "    }\n",
       "</style>\n",
       "<table border=\"1\" class=\"dataframe\">\n",
       "  <thead>\n",
       "    <tr style=\"text-align: right;\">\n",
       "      <th>status</th>\n",
       "      <th>A</th>\n",
       "      <th>B</th>\n",
       "    </tr>\n",
       "    <tr>\n",
       "      <th>k_symbol</th>\n",
       "      <th></th>\n",
       "      <th></th>\n",
       "    </tr>\n",
       "  </thead>\n",
       "  <tbody>\n",
       "    <tr>\n",
       "      <th>POJISTNE</th>\n",
       "      <td>1.643988</td>\n",
       "      <td>0.993344</td>\n",
       "    </tr>\n",
       "    <tr>\n",
       "      <th>SANKC. UROK</th>\n",
       "      <td>0.080497</td>\n",
       "      <td>2.621608</td>\n",
       "    </tr>\n",
       "    <tr>\n",
       "      <th>SIPO</th>\n",
       "      <td>6.927352</td>\n",
       "      <td>6.205837</td>\n",
       "    </tr>\n",
       "    <tr>\n",
       "      <th>SLUZBY</th>\n",
       "      <td>15.172061</td>\n",
       "      <td>15.412186</td>\n",
       "    </tr>\n",
       "    <tr>\n",
       "      <th>UNK</th>\n",
       "      <td>53.024041</td>\n",
       "      <td>48.315412</td>\n",
       "    </tr>\n",
       "    <tr>\n",
       "      <th>UROK</th>\n",
       "      <td>19.207728</td>\n",
       "      <td>22.918587</td>\n",
       "    </tr>\n",
       "    <tr>\n",
       "      <th>UVER</th>\n",
       "      <td>3.944334</td>\n",
       "      <td>3.533026</td>\n",
       "    </tr>\n",
       "  </tbody>\n",
       "</table>\n",
       "</div>"
      ],
      "text/plain": [
       "status               A          B\n",
       "k_symbol                         \n",
       "POJISTNE      1.643988   0.993344\n",
       "SANKC. UROK   0.080497   2.621608\n",
       "SIPO          6.927352   6.205837\n",
       "SLUZBY       15.172061  15.412186\n",
       "UNK          53.024041  48.315412\n",
       "UROK         19.207728  22.918587\n",
       "UVER          3.944334   3.533026"
      ]
     },
     "metadata": {},
     "output_type": "display_data"
    },
    {
     "data": {
      "text/html": [
       "<div>\n",
       "<style scoped>\n",
       "    .dataframe tbody tr th:only-of-type {\n",
       "        vertical-align: middle;\n",
       "    }\n",
       "\n",
       "    .dataframe tbody tr th {\n",
       "        vertical-align: top;\n",
       "    }\n",
       "\n",
       "    .dataframe thead th {\n",
       "        text-align: right;\n",
       "    }\n",
       "</style>\n",
       "<table border=\"1\" class=\"dataframe\">\n",
       "  <thead>\n",
       "    <tr style=\"text-align: right;\">\n",
       "      <th>status</th>\n",
       "      <th>A</th>\n",
       "      <th>B</th>\n",
       "    </tr>\n",
       "    <tr>\n",
       "      <th>status</th>\n",
       "      <th></th>\n",
       "      <th></th>\n",
       "    </tr>\n",
       "  </thead>\n",
       "  <tbody>\n",
       "    <tr>\n",
       "      <th>A</th>\n",
       "      <td>100.0</td>\n",
       "      <td>0.0</td>\n",
       "    </tr>\n",
       "    <tr>\n",
       "      <th>B</th>\n",
       "      <td>0.0</td>\n",
       "      <td>100.0</td>\n",
       "    </tr>\n",
       "  </tbody>\n",
       "</table>\n",
       "</div>"
      ],
      "text/plain": [
       "status      A      B\n",
       "status              \n",
       "A       100.0    0.0\n",
       "B         0.0  100.0"
      ]
     },
     "metadata": {},
     "output_type": "display_data"
    }
   ],
   "source": [
    "for col in data.select_dtypes('object'):\n",
    "    \n",
    "    # Create a contingency table\n",
    "    contingency_table = pd.crosstab(data[col], data['status'])\n",
    "\n",
    "    # Convert the values to percentages\n",
    "    row_sums = contingency_table.sum(axis=1)\n",
    "    col_sums = contingency_table.sum(axis=0)\n",
    "    \n",
    "    contingency_table[\"A\"] = contingency_table[\"A\"] / contingency_table[\"A\"].sum() * 100\n",
    "    contingency_table[\"B\"] = contingency_table[\"B\"] / contingency_table[\"B\"].sum() * 100\n",
    "\n",
    "    # Print the contingency table in percentage\n",
    "    display(contingency_table)"
   ]
  },
  {
   "cell_type": "code",
   "execution_count": 61,
   "metadata": {},
   "outputs": [
    {
     "data": {
      "text/plain": [
       "status\n",
       "A    64599\n",
       "B     9765\n",
       "dtype: int64"
      ]
     },
     "execution_count": 61,
     "metadata": {},
     "output_type": "execute_result"
    }
   ],
   "source": [
    "total"
   ]
  },
  {
   "cell_type": "code",
   "execution_count": 78,
   "metadata": {},
   "outputs": [
    {
     "data": {
      "text/plain": [
       "<Axes: xlabel='status', ylabel='balance'>"
      ]
     },
     "execution_count": 78,
     "metadata": {},
     "output_type": "execute_result"
    },
    {
     "data": {
      "image/png": "[encoded data removed]",
      "text/plain": [
       "<Figure size 640x480 with 1 Axes>"
      ]
     },
     "metadata": {},
     "output_type": "display_data"
    }
   ],
   "source": [
    "# check relationship between numerical and categorical:\n",
    "sns.barplot(data=data, x=\"status\", y=\"balance\")"
   ]
  },
  {
   "cell_type": "code",
   "execution_count": 43,
   "metadata": {},
   "outputs": [
    {
     "name": "stderr",
     "output_type": "stream",
     "text": [
      "C:\\Users\\felipe.c.rocha\\AppData\\Local\\Temp\\ipykernel_29404\\3597185393.py:1: FutureWarning: The default value of numeric_only in DataFrame.corr is deprecated. In a future version, it will default to False. Select only valid columns or specify the value of numeric_only to silence this warning.\n",
      "  corr_matrix=data.corr(method='pearson')  # default\n"
     ]
    },
    {
     "data": {
      "image/png": "[encoded data removed]",
      "text/plain": [
       "<Figure size 1000x800 with 2 Axes>"
      ]
     },
     "metadata": {},
     "output_type": "display_data"
    }
   ],
   "source": [
    "corr_matrix=data.corr(method='pearson')  # default\n",
    "fig, ax = plt.subplots(figsize=(10, 8))\n",
    "ax = sns.heatmap(corr_matrix, annot=True)\n",
    "plt.show()"
   ]
  },
  {
   "cell_type": "code",
   "execution_count": 14,
   "metadata": {},
   "outputs": [
    {
     "data": {
      "image/png": "[encoded data removed]",
      "text/plain": [
       "<Figure size 500x500 with 1 Axes>"
      ]
     },
     "metadata": {},
     "output_type": "display_data"
    },
    {
     "data": {
      "image/png": "[encoded data removed]",
      "text/plain": [
       "<Figure size 500x500 with 1 Axes>"
      ]
     },
     "metadata": {},
     "output_type": "display_data"
    },
    {
     "data": {
      "image/png": "[encoded data removed]",
      "text/plain": [
       "<Figure size 500x500 with 1 Axes>"
      ]
     },
     "metadata": {},
     "output_type": "display_data"
    },
    {
     "data": {
      "image/png": "[encoded data removed]",
      "text/plain": [
       "<Figure size 500x500 with 1 Axes>"
      ]
     },
     "metadata": {},
     "output_type": "display_data"
    },
    {
     "data": {
      "image/png": "[encoded data removed]",
      "text/plain": [
       "<Figure size 500x500 with 1 Axes>"
      ]
     },
     "metadata": {},
     "output_type": "display_data"
    }
   ],
   "source": [
    "for col in data.select_dtypes(np.number):\n",
    "    sns.displot(data[col])\n",
    "    plt.show()"
   ]
  },
  {
   "cell_type": "markdown",
   "metadata": {},
   "source": [
    "#### Data Processing"
   ]
  },
  {
   "cell_type": "code",
   "execution_count": 69,
   "metadata": {},
   "outputs": [],
   "source": [
    "y = data['status']\n",
    "X = data.drop('status', axis=1)"
   ]
  },
  {
   "cell_type": "code",
   "execution_count": 70,
   "metadata": {
    "scrolled": true
   },
   "outputs": [
    {
     "data": {
      "text/html": [
       "<div>\n",
       "<style scoped>\n",
       "    .dataframe tbody tr th:only-of-type {\n",
       "        vertical-align: middle;\n",
       "    }\n",
       "\n",
       "    .dataframe tbody tr th {\n",
       "        vertical-align: top;\n",
       "    }\n",
       "\n",
       "    .dataframe thead th {\n",
       "        text-align: right;\n",
       "    }\n",
       "</style>\n",
       "<table border=\"1\" class=\"dataframe\">\n",
       "  <thead>\n",
       "    <tr style=\"text-align: right;\">\n",
       "      <th></th>\n",
       "      <th>t_amount</th>\n",
       "      <th>balance</th>\n",
       "      <th>l_amount</th>\n",
       "      <th>duration</th>\n",
       "      <th>payments</th>\n",
       "      <th>type_PRIJEM</th>\n",
       "      <th>type_VYBER</th>\n",
       "      <th>type_VYDAJ</th>\n",
       "      <th>operation_PREVOD NA UCET</th>\n",
       "      <th>operation_PREVOD Z UCTU</th>\n",
       "      <th>...</th>\n",
       "      <th>operation_VKLAD</th>\n",
       "      <th>operation_VYBER</th>\n",
       "      <th>operation_VYBER KARTOU</th>\n",
       "      <th>k_symbol_POJISTNE</th>\n",
       "      <th>k_symbol_SANKC. UROK</th>\n",
       "      <th>k_symbol_SIPO</th>\n",
       "      <th>k_symbol_SLUZBY</th>\n",
       "      <th>k_symbol_UNK</th>\n",
       "      <th>k_symbol_UROK</th>\n",
       "      <th>k_symbol_UVER</th>\n",
       "    </tr>\n",
       "  </thead>\n",
       "  <tbody>\n",
       "    <tr>\n",
       "      <th>0</th>\n",
       "      <td>73.8</td>\n",
       "      <td>45821.8</td>\n",
       "      <td>96396</td>\n",
       "      <td>12</td>\n",
       "      <td>8033.0</td>\n",
       "      <td>1</td>\n",
       "      <td>0</td>\n",
       "      <td>0</td>\n",
       "      <td>0</td>\n",
       "      <td>0</td>\n",
       "      <td>...</td>\n",
       "      <td>0</td>\n",
       "      <td>0</td>\n",
       "      <td>0</td>\n",
       "      <td>0</td>\n",
       "      <td>0</td>\n",
       "      <td>0</td>\n",
       "      <td>0</td>\n",
       "      <td>0</td>\n",
       "      <td>1</td>\n",
       "      <td>0</td>\n",
       "    </tr>\n",
       "    <tr>\n",
       "      <th>1</th>\n",
       "      <td>16600.0</td>\n",
       "      <td>45748.0</td>\n",
       "      <td>96396</td>\n",
       "      <td>12</td>\n",
       "      <td>8033.0</td>\n",
       "      <td>0</td>\n",
       "      <td>0</td>\n",
       "      <td>1</td>\n",
       "      <td>0</td>\n",
       "      <td>0</td>\n",
       "      <td>...</td>\n",
       "      <td>0</td>\n",
       "      <td>1</td>\n",
       "      <td>0</td>\n",
       "      <td>0</td>\n",
       "      <td>0</td>\n",
       "      <td>0</td>\n",
       "      <td>0</td>\n",
       "      <td>1</td>\n",
       "      <td>0</td>\n",
       "      <td>0</td>\n",
       "    </tr>\n",
       "    <tr>\n",
       "      <th>2</th>\n",
       "      <td>3300.0</td>\n",
       "      <td>20100.0</td>\n",
       "      <td>96396</td>\n",
       "      <td>12</td>\n",
       "      <td>8033.0</td>\n",
       "      <td>1</td>\n",
       "      <td>0</td>\n",
       "      <td>0</td>\n",
       "      <td>0</td>\n",
       "      <td>0</td>\n",
       "      <td>...</td>\n",
       "      <td>1</td>\n",
       "      <td>0</td>\n",
       "      <td>0</td>\n",
       "      <td>0</td>\n",
       "      <td>0</td>\n",
       "      <td>0</td>\n",
       "      <td>0</td>\n",
       "      <td>1</td>\n",
       "      <td>0</td>\n",
       "      <td>0</td>\n",
       "    </tr>\n",
       "    <tr>\n",
       "      <th>3</th>\n",
       "      <td>5800.0</td>\n",
       "      <td>16800.0</td>\n",
       "      <td>96396</td>\n",
       "      <td>12</td>\n",
       "      <td>8033.0</td>\n",
       "      <td>1</td>\n",
       "      <td>0</td>\n",
       "      <td>0</td>\n",
       "      <td>0</td>\n",
       "      <td>0</td>\n",
       "      <td>...</td>\n",
       "      <td>1</td>\n",
       "      <td>0</td>\n",
       "      <td>0</td>\n",
       "      <td>0</td>\n",
       "      <td>0</td>\n",
       "      <td>0</td>\n",
       "      <td>0</td>\n",
       "      <td>1</td>\n",
       "      <td>0</td>\n",
       "      <td>0</td>\n",
       "    </tr>\n",
       "    <tr>\n",
       "      <th>4</th>\n",
       "      <td>9900.0</td>\n",
       "      <td>11000.0</td>\n",
       "      <td>96396</td>\n",
       "      <td>12</td>\n",
       "      <td>8033.0</td>\n",
       "      <td>1</td>\n",
       "      <td>0</td>\n",
       "      <td>0</td>\n",
       "      <td>0</td>\n",
       "      <td>0</td>\n",
       "      <td>...</td>\n",
       "      <td>1</td>\n",
       "      <td>0</td>\n",
       "      <td>0</td>\n",
       "      <td>0</td>\n",
       "      <td>0</td>\n",
       "      <td>0</td>\n",
       "      <td>0</td>\n",
       "      <td>1</td>\n",
       "      <td>0</td>\n",
       "      <td>0</td>\n",
       "    </tr>\n",
       "    <tr>\n",
       "      <th>...</th>\n",
       "      <td>...</td>\n",
       "      <td>...</td>\n",
       "      <td>...</td>\n",
       "      <td>...</td>\n",
       "      <td>...</td>\n",
       "      <td>...</td>\n",
       "      <td>...</td>\n",
       "      <td>...</td>\n",
       "      <td>...</td>\n",
       "      <td>...</td>\n",
       "      <td>...</td>\n",
       "      <td>...</td>\n",
       "      <td>...</td>\n",
       "      <td>...</td>\n",
       "      <td>...</td>\n",
       "      <td>...</td>\n",
       "      <td>...</td>\n",
       "      <td>...</td>\n",
       "      <td>...</td>\n",
       "      <td>...</td>\n",
       "      <td>...</td>\n",
       "    </tr>\n",
       "    <tr>\n",
       "      <th>74359</th>\n",
       "      <td>47710.0</td>\n",
       "      <td>85215.5</td>\n",
       "      <td>44628</td>\n",
       "      <td>12</td>\n",
       "      <td>3719.0</td>\n",
       "      <td>1</td>\n",
       "      <td>0</td>\n",
       "      <td>0</td>\n",
       "      <td>0</td>\n",
       "      <td>1</td>\n",
       "      <td>...</td>\n",
       "      <td>0</td>\n",
       "      <td>0</td>\n",
       "      <td>0</td>\n",
       "      <td>0</td>\n",
       "      <td>0</td>\n",
       "      <td>0</td>\n",
       "      <td>0</td>\n",
       "      <td>1</td>\n",
       "      <td>0</td>\n",
       "      <td>0</td>\n",
       "    </tr>\n",
       "    <tr>\n",
       "      <th>74360</th>\n",
       "      <td>95.5</td>\n",
       "      <td>37505.5</td>\n",
       "      <td>44628</td>\n",
       "      <td>12</td>\n",
       "      <td>3719.0</td>\n",
       "      <td>1</td>\n",
       "      <td>0</td>\n",
       "      <td>0</td>\n",
       "      <td>0</td>\n",
       "      <td>0</td>\n",
       "      <td>...</td>\n",
       "      <td>0</td>\n",
       "      <td>0</td>\n",
       "      <td>0</td>\n",
       "      <td>0</td>\n",
       "      <td>0</td>\n",
       "      <td>0</td>\n",
       "      <td>0</td>\n",
       "      <td>0</td>\n",
       "      <td>1</td>\n",
       "      <td>0</td>\n",
       "    </tr>\n",
       "    <tr>\n",
       "      <th>74361</th>\n",
       "      <td>11200.0</td>\n",
       "      <td>37410.0</td>\n",
       "      <td>44628</td>\n",
       "      <td>12</td>\n",
       "      <td>3719.0</td>\n",
       "      <td>0</td>\n",
       "      <td>0</td>\n",
       "      <td>1</td>\n",
       "      <td>0</td>\n",
       "      <td>0</td>\n",
       "      <td>...</td>\n",
       "      <td>0</td>\n",
       "      <td>1</td>\n",
       "      <td>0</td>\n",
       "      <td>0</td>\n",
       "      <td>0</td>\n",
       "      <td>0</td>\n",
       "      <td>0</td>\n",
       "      <td>1</td>\n",
       "      <td>0</td>\n",
       "      <td>0</td>\n",
       "    </tr>\n",
       "    <tr>\n",
       "      <th>74362</th>\n",
       "      <td>47710.0</td>\n",
       "      <td>48610.0</td>\n",
       "      <td>44628</td>\n",
       "      <td>12</td>\n",
       "      <td>3719.0</td>\n",
       "      <td>1</td>\n",
       "      <td>0</td>\n",
       "      <td>0</td>\n",
       "      <td>0</td>\n",
       "      <td>1</td>\n",
       "      <td>...</td>\n",
       "      <td>0</td>\n",
       "      <td>0</td>\n",
       "      <td>0</td>\n",
       "      <td>0</td>\n",
       "      <td>0</td>\n",
       "      <td>0</td>\n",
       "      <td>0</td>\n",
       "      <td>1</td>\n",
       "      <td>0</td>\n",
       "      <td>0</td>\n",
       "    </tr>\n",
       "    <tr>\n",
       "      <th>74363</th>\n",
       "      <td>900.0</td>\n",
       "      <td>900.0</td>\n",
       "      <td>44628</td>\n",
       "      <td>12</td>\n",
       "      <td>3719.0</td>\n",
       "      <td>1</td>\n",
       "      <td>0</td>\n",
       "      <td>0</td>\n",
       "      <td>0</td>\n",
       "      <td>0</td>\n",
       "      <td>...</td>\n",
       "      <td>1</td>\n",
       "      <td>0</td>\n",
       "      <td>0</td>\n",
       "      <td>0</td>\n",
       "      <td>0</td>\n",
       "      <td>0</td>\n",
       "      <td>0</td>\n",
       "      <td>1</td>\n",
       "      <td>0</td>\n",
       "      <td>0</td>\n",
       "    </tr>\n",
       "  </tbody>\n",
       "</table>\n",
       "<p>74364 rows × 21 columns</p>\n",
       "</div>"
      ],
      "text/plain": [
       "       t_amount  balance  l_amount  duration  payments  type_PRIJEM  \\\n",
       "0          73.8  45821.8     96396        12    8033.0            1   \n",
       "1       16600.0  45748.0     96396        12    8033.0            0   \n",
       "2        3300.0  20100.0     96396        12    8033.0            1   \n",
       "3        5800.0  16800.0     96396        12    8033.0            1   \n",
       "4        9900.0  11000.0     96396        12    8033.0            1   \n",
       "...         ...      ...       ...       ...       ...          ...   \n",
       "74359   47710.0  85215.5     44628        12    3719.0            1   \n",
       "74360      95.5  37505.5     44628        12    3719.0            1   \n",
       "74361   11200.0  37410.0     44628        12    3719.0            0   \n",
       "74362   47710.0  48610.0     44628        12    3719.0            1   \n",
       "74363     900.0    900.0     44628        12    3719.0            1   \n",
       "\n",
       "       type_VYBER  type_VYDAJ  operation_PREVOD NA UCET  \\\n",
       "0               0           0                         0   \n",
       "1               0           1                         0   \n",
       "2               0           0                         0   \n",
       "3               0           0                         0   \n",
       "4               0           0                         0   \n",
       "...           ...         ...                       ...   \n",
       "74359           0           0                         0   \n",
       "74360           0           0                         0   \n",
       "74361           0           1                         0   \n",
       "74362           0           0                         0   \n",
       "74363           0           0                         0   \n",
       "\n",
       "       operation_PREVOD Z UCTU  ...  operation_VKLAD  operation_VYBER  \\\n",
       "0                            0  ...                0                0   \n",
       "1                            0  ...                0                1   \n",
       "2                            0  ...                1                0   \n",
       "3                            0  ...                1                0   \n",
       "4                            0  ...                1                0   \n",
       "...                        ...  ...              ...              ...   \n",
       "74359                        1  ...                0                0   \n",
       "74360                        0  ...                0                0   \n",
       "74361                        0  ...                0                1   \n",
       "74362                        1  ...                0                0   \n",
       "74363                        0  ...                1                0   \n",
       "\n",
       "       operation_VYBER KARTOU  k_symbol_POJISTNE  k_symbol_SANKC. UROK  \\\n",
       "0                           0                  0                     0   \n",
       "1                           0                  0                     0   \n",
       "2                           0                  0                     0   \n",
       "3                           0                  0                     0   \n",
       "4                           0                  0                     0   \n",
       "...                       ...                ...                   ...   \n",
       "74359                       0                  0                     0   \n",
       "74360                       0                  0                     0   \n",
       "74361                       0                  0                     0   \n",
       "74362                       0                  0                     0   \n",
       "74363                       0                  0                     0   \n",
       "\n",
       "       k_symbol_SIPO  k_symbol_SLUZBY  k_symbol_UNK  k_symbol_UROK  \\\n",
       "0                  0                0             0              1   \n",
       "1                  0                0             1              0   \n",
       "2                  0                0             1              0   \n",
       "3                  0                0             1              0   \n",
       "4                  0                0             1              0   \n",
       "...              ...              ...           ...            ...   \n",
       "74359              0                0             1              0   \n",
       "74360              0                0             0              1   \n",
       "74361              0                0             1              0   \n",
       "74362              0                0             1              0   \n",
       "74363              0                0             1              0   \n",
       "\n",
       "       k_symbol_UVER  \n",
       "0                  0  \n",
       "1                  0  \n",
       "2                  0  \n",
       "3                  0  \n",
       "4                  0  \n",
       "...              ...  \n",
       "74359              0  \n",
       "74360              0  \n",
       "74361              0  \n",
       "74362              0  \n",
       "74363              0  \n",
       "\n",
       "[74364 rows x 21 columns]"
      ]
     },
     "execution_count": 70,
     "metadata": {},
     "output_type": "execute_result"
    }
   ],
   "source": [
    "X = pd.get_dummies(X, columns=['type', 'operation', 'k_symbol'])\n",
    "X"
   ]
  },
  {
   "cell_type": "code",
   "execution_count": 76,
   "metadata": {},
   "outputs": [
    {
     "data": {
      "text/plain": [
       "status_B                   -1.000000\n",
       "l_amount                   -0.259404\n",
       "payments                   -0.221782\n",
       "k_symbol_SANKC. UROK       -0.133634\n",
       "duration                   -0.091150\n",
       "type_PRIJEM                -0.038460\n",
       "operation_VKLAD            -0.037800\n",
       "operation_UNK              -0.031515\n",
       "k_symbol_UROK              -0.031515\n",
       "type_VYBER                 -0.015044\n",
       "operation_VYBER            -0.011473\n",
       "t_amount                   -0.005569\n",
       "k_symbol_SLUZBY            -0.002259\n",
       "k_symbol_UVER               0.007184\n",
       "k_symbol_SIPO               0.009658\n",
       "k_symbol_POJISTNE           0.017741\n",
       "operation_VYBER KARTOU      0.019962\n",
       "k_symbol_UNK                0.031843\n",
       "operation_PREVOD Z UCTU     0.039589\n",
       "type_VYDAJ                  0.043487\n",
       "operation_PREVOD NA UCET    0.062927\n",
       "balance                     0.153457\n",
       "status_A                    1.000000\n",
       "Name: status_A, dtype: float64"
      ]
     },
     "execution_count": 76,
     "metadata": {},
     "output_type": "execute_result"
    }
   ],
   "source": [
    "pd.get_dummies(data).corr()[\"status_A\"].sort_values()"
   ]
  },
  {
   "cell_type": "code",
   "execution_count": 77,
   "metadata": {},
   "outputs": [
    {
     "data": {
      "text/plain": [
       "status_A                   -1.000000\n",
       "balance                    -0.153457\n",
       "operation_PREVOD NA UCET   -0.062927\n",
       "type_VYDAJ                 -0.043487\n",
       "operation_PREVOD Z UCTU    -0.039589\n",
       "k_symbol_UNK               -0.031843\n",
       "operation_VYBER KARTOU     -0.019962\n",
       "k_symbol_POJISTNE          -0.017741\n",
       "k_symbol_SIPO              -0.009658\n",
       "k_symbol_UVER              -0.007184\n",
       "k_symbol_SLUZBY             0.002259\n",
       "t_amount                    0.005569\n",
       "operation_VYBER             0.011473\n",
       "type_VYBER                  0.015044\n",
       "k_symbol_UROK               0.031515\n",
       "operation_UNK               0.031515\n",
       "operation_VKLAD             0.037800\n",
       "type_PRIJEM                 0.038460\n",
       "duration                    0.091150\n",
       "k_symbol_SANKC. UROK        0.133634\n",
       "payments                    0.221782\n",
       "l_amount                    0.259404\n",
       "status_B                    1.000000\n",
       "Name: status_B, dtype: float64"
      ]
     },
     "execution_count": 77,
     "metadata": {},
     "output_type": "execute_result"
    }
   ],
   "source": [
    "pd.get_dummies(data).corr()[\"status_B\"].sort_values()"
   ]
  },
  {
   "cell_type": "code",
   "execution_count": 46,
   "metadata": {},
   "outputs": [],
   "source": [
    "X_train, X_test, y_train, y_test = train_test_split(X, y, test_size=0.2, random_state=42)"
   ]
  },
  {
   "cell_type": "code",
   "execution_count": 47,
   "metadata": {},
   "outputs": [
    {
     "data": {
      "text/html": [
       "<style>#sk-container-id-2 {color: black;background-color: white;}#sk-container-id-2 pre{padding: 0;}#sk-container-id-2 div.sk-toggleable {background-color: white;}#sk-container-id-2 label.sk-toggleable__label {cursor: pointer;display: block;width: 100%;margin-bottom: 0;padding: 0.3em;box-sizing: border-box;text-align: center;}#sk-container-id-2 label.sk-toggleable__label-arrow:before {content: \"▸\";float: left;margin-right: 0.25em;color: #696969;}#sk-container-id-2 label.sk-toggleable__label-arrow:hover:before {color: black;}#sk-container-id-2 div.sk-estimator:hover label.sk-toggleable__label-arrow:before {color: black;}#sk-container-id-2 div.sk-toggleable__content {max-height: 0;max-width: 0;overflow: hidden;text-align: left;background-color: #f0f8ff;}#sk-container-id-2 div.sk-toggleable__content pre {margin: 0.2em;color: black;border-radius: 0.25em;background-color: #f0f8ff;}#sk-container-id-2 input.sk-toggleable__control:checked~div.sk-toggleable__content {max-height: 200px;max-width: 100%;overflow: auto;}#sk-container-id-2 input.sk-toggleable__control:checked~label.sk-toggleable__label-arrow:before {content: \"▾\";}#sk-container-id-2 div.sk-estimator input.sk-toggleable__control:checked~label.sk-toggleable__label {background-color: #d4ebff;}#sk-container-id-2 div.sk-label input.sk-toggleable__control:checked~label.sk-toggleable__label {background-color: #d4ebff;}#sk-container-id-2 input.sk-hidden--visually {border: 0;clip: rect(1px 1px 1px 1px);clip: rect(1px, 1px, 1px, 1px);height: 1px;margin: -1px;overflow: hidden;padding: 0;position: absolute;width: 1px;}#sk-container-id-2 div.sk-estimator {font-family: monospace;background-color: #f0f8ff;border: 1px dotted black;border-radius: 0.25em;box-sizing: border-box;margin-bottom: 0.5em;}#sk-container-id-2 div.sk-estimator:hover {background-color: #d4ebff;}#sk-container-id-2 div.sk-parallel-item::after {content: \"\";width: 100%;border-bottom: 1px solid gray;flex-grow: 1;}#sk-container-id-2 div.sk-label:hover label.sk-toggleable__label {background-color: #d4ebff;}#sk-container-id-2 div.sk-serial::before {content: \"\";position: absolute;border-left: 1px solid gray;box-sizing: border-box;top: 0;bottom: 0;left: 50%;z-index: 0;}#sk-container-id-2 div.sk-serial {display: flex;flex-direction: column;align-items: center;background-color: white;padding-right: 0.2em;padding-left: 0.2em;position: relative;}#sk-container-id-2 div.sk-item {position: relative;z-index: 1;}#sk-container-id-2 div.sk-parallel {display: flex;align-items: stretch;justify-content: center;background-color: white;position: relative;}#sk-container-id-2 div.sk-item::before, #sk-container-id-2 div.sk-parallel-item::before {content: \"\";position: absolute;border-left: 1px solid gray;box-sizing: border-box;top: 0;bottom: 0;left: 50%;z-index: -1;}#sk-container-id-2 div.sk-parallel-item {display: flex;flex-direction: column;z-index: 1;position: relative;background-color: white;}#sk-container-id-2 div.sk-parallel-item:first-child::after {align-self: flex-end;width: 50%;}#sk-container-id-2 div.sk-parallel-item:last-child::after {align-self: flex-start;width: 50%;}#sk-container-id-2 div.sk-parallel-item:only-child::after {width: 0;}#sk-container-id-2 div.sk-dashed-wrapped {border: 1px dashed gray;margin: 0 0.4em 0.5em 0.4em;box-sizing: border-box;padding-bottom: 0.4em;background-color: white;}#sk-container-id-2 div.sk-label label {font-family: monospace;font-weight: bold;display: inline-block;line-height: 1.2em;}#sk-container-id-2 div.sk-label-container {text-align: center;}#sk-container-id-2 div.sk-container {/* jupyter's `normalize.less` sets `[hidden] { display: none; }` but bootstrap.min.css set `[hidden] { display: none !important; }` so we also need the `!important` here to be able to override the default hidden behavior on the sphinx rendered scikit-learn.org. See: https://github.com/scikit-learn/scikit-learn/issues/21755 */display: inline-block !important;position: relative;}#sk-container-id-2 div.sk-text-repr-fallback {display: none;}</style><div id=\"sk-container-id-2\" class=\"sk-top-container\"><div class=\"sk-text-repr-fallback\"><pre>LogisticRegression(random_state=42)</pre><b>In a Jupyter environment, please rerun this cell to show the HTML representation or trust the notebook. <br />On GitHub, the HTML representation is unable to render, please try loading this page with nbviewer.org.</b></div><div class=\"sk-container\" hidden><div class=\"sk-item\"><div class=\"sk-estimator sk-toggleable\"><input class=\"sk-toggleable__control sk-hidden--visually\" id=\"sk-estimator-id-2\" type=\"checkbox\" checked><label for=\"sk-estimator-id-2\" class=\"sk-toggleable__label sk-toggleable__label-arrow\">LogisticRegression</label><div class=\"sk-toggleable__content\"><pre>LogisticRegression(random_state=42)</pre></div></div></div></div></div>"
      ],
      "text/plain": [
       "LogisticRegression(random_state=42)"
      ]
     },
     "execution_count": 47,
     "metadata": {},
     "output_type": "execute_result"
    }
   ],
   "source": [
    "classification = LogisticRegression(random_state=42) #, max_iter=1000\n",
    "\n",
    "classification.fit(X_train, y_train)"
   ]
  },
  {
   "cell_type": "code",
   "execution_count": 48,
   "metadata": {},
   "outputs": [
    {
     "data": {
      "text/plain": [
       "0.8795804477912996"
      ]
     },
     "execution_count": 48,
     "metadata": {},
     "output_type": "execute_result"
    }
   ],
   "source": [
    "# get the accuracy:\n",
    "classification.score(X_test, y_test)\n",
    "# 0.8729913265649163 50000/74364"
   ]
  },
  {
   "cell_type": "code",
   "execution_count": 21,
   "metadata": {},
   "outputs": [
    {
     "data": {
      "text/plain": [
       "array(['A', 'A', 'A', ..., 'A', 'A', 'A'], dtype=object)"
      ]
     },
     "execution_count": 21,
     "metadata": {},
     "output_type": "execute_result"
    }
   ],
   "source": [
    "# to get predictions:\n",
    "predictions = classification.predict(X_test)\n",
    "predictions"
   ]
  },
  {
   "cell_type": "code",
   "execution_count": 22,
   "metadata": {},
   "outputs": [
    {
     "data": {
      "text/plain": [
       "A    12963\n",
       "B     1910\n",
       "Name: status, dtype: int64"
      ]
     },
     "execution_count": 22,
     "metadata": {},
     "output_type": "execute_result"
    }
   ],
   "source": [
    "# we have an imbalanced dataset:\n",
    "y_test.value_counts()"
   ]
  },
  {
   "cell_type": "code",
   "execution_count": 23,
   "metadata": {},
   "outputs": [
    {
     "data": {
      "text/plain": [
       "array([[0.87850925, 0.12149075],\n",
       "       [0.95956125, 0.04043875],\n",
       "       [0.80865233, 0.19134767],\n",
       "       ...,\n",
       "       [0.94202452, 0.05797548],\n",
       "       [0.85262066, 0.14737934],\n",
       "       [0.55306845, 0.44693155]])"
      ]
     },
     "execution_count": 23,
     "metadata": {},
     "output_type": "execute_result"
    }
   ],
   "source": [
    "# to get the probability instead\n",
    "predictions_ = classification.predict_proba(X_test)\n",
    "predictions_"
   ]
  },
  {
   "cell_type": "code",
   "execution_count": 24,
   "metadata": {},
   "outputs": [
    {
     "data": {
      "text/plain": [
       "array([[12809,   154],\n",
       "       [ 1633,   277]], dtype=int64)"
      ]
     },
     "execution_count": 24,
     "metadata": {},
     "output_type": "execute_result"
    }
   ],
   "source": [
    "confusion_matrix(y_test, predictions) # normalize : {'true', 'pred', 'all'}"
   ]
  },
  {
   "cell_type": "markdown",
   "metadata": {},
   "source": [
    "From DOC:\n",
    "\n",
    "    Confusion matrix whose i-th row and j-th\n",
    "    column entry indicates the number of\n",
    "    samples with true label being i-th class\n",
    "    and predicted label being j-th class.\n",
    "\n",
    "![](https://miro.medium.com/max/664/1*M295_PhlqBaq_SFj7edQ5w.png)"
   ]
  },
  {
   "cell_type": "code",
   "execution_count": 27,
   "metadata": {},
   "outputs": [
    {
     "data": {
      "text/plain": [
       "<Axes: >"
      ]
     },
     "execution_count": 27,
     "metadata": {},
     "output_type": "execute_result"
    },
    {
     "data": {
      "image/png": "[encoded data removed]",
      "text/plain": [
       "<Figure size 640x480 with 2 Axes>"
      ]
     },
     "metadata": {},
     "output_type": "display_data"
    }
   ],
   "source": [
    "cf_matrix = confusion_matrix(y_test, predictions, normalize='all')\n",
    "sns.heatmap(cf_matrix, annot=True, xticklabels=[\"A\", \"B\"], yticklabels=[\"A\", \"B\"])"
   ]
  },
  {
   "cell_type": "markdown",
   "metadata": {},
   "source": [
    "Even though our accuracy seems good, our model is working with an imbalanced dataset (too many A for not many B), so it is guessing most as \"A\"."
   ]
  },
  {
   "cell_type": "code",
   "execution_count": 29,
   "metadata": {},
   "outputs": [
    {
     "name": "stdout",
     "output_type": "stream",
     "text": [
      "Collecting imblearn\n",
      "  Using cached imblearn-0.0-py2.py3-none-any.whl (1.9 kB)\n",
      "Requirement already satisfied: imbalanced-learn in c:\\users\\felipe.c.rocha\\appdata\\local\\anaconda3\\lib\\site-packages (from imblearn) (0.10.1)\n",
      "Requirement already satisfied: numpy>=1.17.3 in c:\\users\\felipe.c.rocha\\appdata\\local\\anaconda3\\lib\\site-packages (from imbalanced-learn->imblearn) (1.23.5)\n",
      "Requirement already satisfied: scipy>=1.3.2 in c:\\users\\felipe.c.rocha\\appdata\\local\\anaconda3\\lib\\site-packages (from imbalanced-learn->imblearn) (1.10.0)\n",
      "Requirement already satisfied: scikit-learn>=1.0.2 in c:\\users\\felipe.c.rocha\\appdata\\local\\anaconda3\\lib\\site-packages (from imbalanced-learn->imblearn) (1.2.1)\n",
      "Requirement already satisfied: joblib>=1.1.1 in c:\\users\\felipe.c.rocha\\appdata\\local\\anaconda3\\lib\\site-packages (from imbalanced-learn->imblearn) (1.1.1)\n",
      "Requirement already satisfied: threadpoolctl>=2.0.0 in c:\\users\\felipe.c.rocha\\appdata\\local\\anaconda3\\lib\\site-packages (from imbalanced-learn->imblearn) (2.2.0)\n",
      "Installing collected packages: imblearn\n",
      "Successfully installed imblearn-0.0\n"
     ]
    },
    {
     "name": "stderr",
     "output_type": "stream",
     "text": [
      "\n",
      "[notice] A new release of pip is available: 23.1 -> 23.1.2\n",
      "[notice] To update, run: python.exe -m pip install --upgrade pip\n"
     ]
    }
   ],
   "source": [
    "# Quick intro to data balancing:\n",
    "! pip install imblearn"
   ]
  },
  {
   "cell_type": "code",
   "execution_count": 32,
   "metadata": {},
   "outputs": [
    {
     "data": {
      "text/plain": [
       "A    51636\n",
       "B    51636\n",
       "Name: status, dtype: int64"
      ]
     },
     "execution_count": 32,
     "metadata": {},
     "output_type": "execute_result"
    }
   ],
   "source": [
    "from imblearn.over_sampling import RandomOverSampler # remember the DOCS: https://imbalanced-learn.org/stable/references/generated/imblearn.over_sampling.RandomOverSampler.html\n",
    "\n",
    "sampler = RandomOverSampler(random_state=42)\n",
    "\n",
    "# only sample the training data (you don't want to test on repeated or made up rows):\n",
    "X_train_balanced, y_train_balanced = sampler.fit_resample(X_train, y_train) \n",
    "\n",
    "y_train_balanced.value_counts()"
   ]
  },
  {
   "cell_type": "code",
   "execution_count": 33,
   "metadata": {},
   "outputs": [
    {
     "data": {
      "text/plain": [
       "0.6979089625495865"
      ]
     },
     "execution_count": 33,
     "metadata": {},
     "output_type": "execute_result"
    }
   ],
   "source": [
    "classification = LogisticRegression(random_state=42) #, max_iter=1000\n",
    "classification.fit(X_train_balanced, y_train_balanced)\n",
    "classification.score(X_test, y_test)"
   ]
  },
  {
   "cell_type": "code",
   "execution_count": 35,
   "metadata": {},
   "outputs": [
    {
     "data": {
      "text/plain": [
       "<Axes: >"
      ]
     },
     "execution_count": 35,
     "metadata": {},
     "output_type": "execute_result"
    },
    {
     "data": {
      "image/png": "[encoded data removed]",
      "text/plain": [
       "<Figure size 640x480 with 2 Axes>"
      ]
     },
     "metadata": {},
     "output_type": "display_data"
    }
   ],
   "source": [
    "predictions = classification.predict(X_test)\n",
    "cf_matrix = confusion_matrix(y_test, predictions, normalize='all')\n",
    "sns.heatmap(cf_matrix, annot=True, xticklabels=[\"A\", \"B\"], yticklabels=[\"A\", \"B\"])"
   ]
  },
  {
   "cell_type": "markdown",
   "metadata": {},
   "source": [
    "We see now that there was a trade off between the metrics. Now \"A\" is being predited less times and \"B\" is being predicted slightly better.\n",
    "\n",
    "##### Next Steps:\n",
    "1. Scale the data;\n",
    "2. Try balancing scaling techniques;\n",
    "4. Try different classification algorithms;\n",
    "5. Try to get more data from other tables that might help predit a default on the loans;\n",
    "6. Engineer the problem differently."
   ]
  },
  {
   "cell_type": "markdown",
   "metadata": {},
   "source": [
    "![](https://media.makeameme.org/created/documentation-for-the.jpg)"
   ]
  },
  {
   "cell_type": "code",
   "execution_count": null,
   "metadata": {},
   "outputs": [],
   "source": []
  }
 ],
 "metadata": {
  "kernelspec": {
   "display_name": "Python 3 (ipykernel)",
   "language": "python",
   "name": "python3"
  },
  "language_info": {
   "codemirror_mode": {
    "name": "ipython",
    "version": 3
   },
   "file_extension": ".py",
   "mimetype": "text/x-python",
   "name": "python",
   "nbconvert_exporter": "python",
   "pygments_lexer": "ipython3",
   "version": "3.9.13"
  }
 },
 "nbformat": 4,
 "nbformat_minor": 4
}
